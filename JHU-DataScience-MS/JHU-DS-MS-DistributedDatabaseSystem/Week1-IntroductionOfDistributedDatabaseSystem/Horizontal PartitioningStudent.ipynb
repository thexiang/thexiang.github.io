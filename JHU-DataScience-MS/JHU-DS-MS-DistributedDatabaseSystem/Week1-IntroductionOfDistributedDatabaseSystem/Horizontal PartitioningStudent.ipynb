{
 "cells": [
  {
   "cell_type": "code",
   "execution_count": 19,
   "metadata": {
    "collapsed": false
   },
   "outputs": [],
   "source": [
    "data = [\"gpa > 3.5\",\n",
    "        \"gpa <= 3.5\",\n",
    "        \"state = NY\",\n",
    "        \"state = MD\"]\n",
    "    \n",
    "\n",
    "# 0 1\n",
    "def mintermBinary(tempArray, result):\n",
    "        if len(tempArray) == len(data):\n",
    "            result.append(tempArray[:])\n",
    "            return\n",
    "        \n",
    "        for i in range(2):\n",
    "            tempArray.append(i)\n",
    "            mintermBinary(tempArray, result)\n",
    "            tempArray.pop()\n",
    "\n",
    "\n",
    "def CorrespondingMinterms():\n",
    "    \n",
    "        result = []\n",
    "        final = []\n",
    "        \n",
    "        mintermBinary([], result)\n",
    "        number = 0\n",
    "        for i in range(len(result)):\n",
    "            str = ''\n",
    "            print(\"m\",number,\" \", end = \" \")\n",
    "            for j in range(len(result[i])):\n",
    "                    #print(result[i][j],end = \" \")\n",
    "                    if(result[i][j]==1): \n",
    "                        str += data[j] + \" ^ \"\n",
    "            if(result[i][0]+result[i][1]<=1 and result[i][2]+result[i][3] <= 1):\n",
    "                print(str[:-2],end = \" \")  ## get rid of the last ^          \n",
    "            number = number + 1\n",
    "            print(end=\"\\n\")\n",
    "         \n",
    "            \n",
    "        return            \n",
    "            \n",
    "def EliminateContradictoryMinterms():\n",
    "    \n",
    "        result = []\n",
    "        final = []\n",
    "        \n",
    "        mintermBinary([], result)\n",
    "        number = 0\n",
    "        for i in range(len(result)):\n",
    "            str = ''\n",
    "            print(\"m\",number,\" \", end = \" \")\n",
    "            for j in range(len(result[i])):\n",
    "                    #print(result[i][j],end = \" \")\n",
    "                    if(result[i][j]==1): \n",
    "                        str += data[j] + \" ^ \"\n",
    "            if(result[i][0]+result[i][1]==1 and result[i][2]+result[i][3] == 1):\n",
    "                print(str[:-2],end = \" \")  ## get rid of the last ^          \n",
    "            number = number + 1\n",
    "            print(end=\"\\n\")\n",
    "         \n",
    "            \n",
    "        return     "
   ]
  },
  {
   "cell_type": "code",
   "execution_count": 20,
   "metadata": {
    "collapsed": false
   },
   "outputs": [
    {
     "name": "stdout",
     "output_type": "stream",
     "text": [
      "m 0    \n",
      "m 1   state = MD  \n",
      "m 2   state = NY  \n",
      "m 3   \n",
      "m 4   gpa <= 3.5  \n",
      "m 5   gpa <= 3.5 ^ state = MD  \n",
      "m 6   gpa <= 3.5 ^ state = NY  \n",
      "m 7   \n",
      "m 8   gpa > 3.5  \n",
      "m 9   gpa > 3.5 ^ state = MD  \n",
      "m 10   gpa > 3.5 ^ state = NY  \n",
      "m 11   \n",
      "m 12   \n",
      "m 13   \n",
      "m 14   \n",
      "m 15   \n"
     ]
    }
   ],
   "source": [
    "CorrespondingMinterms()"
   ]
  },
  {
   "cell_type": "code",
   "execution_count": 21,
   "metadata": {
    "collapsed": false
   },
   "outputs": [
    {
     "name": "stdout",
     "output_type": "stream",
     "text": [
      "m 0   \n",
      "m 1   \n",
      "m 2   \n",
      "m 3   \n",
      "m 4   \n",
      "m 5   gpa <= 3.5 ^ state = MD  \n",
      "m 6   gpa <= 3.5 ^ state = NY  \n",
      "m 7   \n",
      "m 8   \n",
      "m 9   gpa > 3.5 ^ state = MD  \n",
      "m 10   gpa > 3.5 ^ state = NY  \n",
      "m 11   \n",
      "m 12   \n",
      "m 13   \n",
      "m 14   \n",
      "m 15   \n"
     ]
    }
   ],
   "source": [
    "EliminateContradictoryMinterms()"
   ]
  },
  {
   "cell_type": "code",
   "execution_count": null,
   "metadata": {
    "collapsed": true
   },
   "outputs": [],
   "source": []
  }
 ],
 "metadata": {
  "anaconda-cloud": {},
  "kernelspec": {
   "display_name": "Python [conda root]",
   "language": "python",
   "name": "conda-root-py"
  },
  "language_info": {
   "codemirror_mode": {
    "name": "ipython",
    "version": 3
   },
   "file_extension": ".py",
   "mimetype": "text/x-python",
   "name": "python",
   "nbconvert_exporter": "python",
   "pygments_lexer": "ipython3",
   "version": "3.5.2"
  }
 },
 "nbformat": 4,
 "nbformat_minor": 1
}
