{
 "cells": [
  {
   "cell_type": "code",
   "execution_count": 1,
   "metadata": {
    "collapsed": false
   },
   "outputs": [
    {
     "name": "stdout",
     "output_type": "stream",
     "text": [
      "0    \n",
      "1   credit_line <= 11000  \n",
      "2   credit_line > 11000  \n",
      "3   credit_line > 11000 ^ credit_line <= 11000  \n",
      "4   state = NY  \n",
      "5   state = NY ^ credit_line <= 11000  \n",
      "6   state = NY ^ credit_line > 11000  \n",
      "7   state = NY ^ credit_line > 11000 ^ credit_line <= 11000  \n",
      "8   state = MD  \n",
      "9   state = MD ^ credit_line <= 11000  \n",
      "10   state = MD ^ credit_line > 11000  \n",
      "11   state = MD ^ credit_line > 11000 ^ credit_line <= 11000  \n",
      "12   state = MD ^ state = NY  \n",
      "13   state = MD ^ state = NY ^ credit_line <= 11000  \n",
      "14   state = MD ^ state = NY ^ credit_line > 11000  \n",
      "15   state = MD ^ state = NY ^ credit_line > 11000 ^ credit_line <= 11000  \n",
      "16   state = TX  \n",
      "17   state = TX ^ credit_line <= 11000  \n",
      "18   state = TX ^ credit_line > 11000  \n",
      "19   state = TX ^ credit_line > 11000 ^ credit_line <= 11000  \n",
      "20   state = TX ^ state = NY  \n",
      "21   state = TX ^ state = NY ^ credit_line <= 11000  \n",
      "22   state = TX ^ state = NY ^ credit_line > 11000  \n",
      "23   state = TX ^ state = NY ^ credit_line > 11000 ^ credit_line <= 11000  \n",
      "24   state = TX ^ state = MD  \n",
      "25   state = TX ^ state = MD ^ credit_line <= 11000  \n",
      "26   state = TX ^ state = MD ^ credit_line > 11000  \n",
      "27   state = TX ^ state = MD ^ credit_line > 11000 ^ credit_line <= 11000  \n",
      "28   state = TX ^ state = MD ^ state = NY  \n",
      "29   state = TX ^ state = MD ^ state = NY ^ credit_line <= 11000  \n",
      "30   state = TX ^ state = MD ^ state = NY ^ credit_line > 11000  \n",
      "31   state = TX ^ state = MD ^ state = NY ^ credit_line > 11000 ^ credit_line <= 11000  \n"
     ]
    }
   ],
   "source": [
    "def run():\n",
    "    \n",
    "        result = []\n",
    "        final = []\n",
    "        \n",
    "        data = [\"state = TX\",\"state = MD\",\"state = NY\",\"credit_line > 11000\",\"credit_line <= 11000\"]\n",
    "        mintermBinary([], result)\n",
    "        number = 0\n",
    "        for i in range(len(result)):\n",
    "            str = ''\n",
    "            print(number,\" \", end = \" \")\n",
    "            for j in range(len(result[i])):\n",
    "                    #print(result[i][j],end = \" \")\n",
    "                    if(result[i][j]==1): \n",
    "                        str += data[j] + \" ^ \"\n",
    "            print(str[:-2],end = \" \")  ## get rid of the last ^          \n",
    "            number = number + 1\n",
    "            print(end=\"\\n\")\n",
    "         \n",
    "            \n",
    "        return\n",
    "\n",
    "# 0 1\n",
    "def mintermBinary(tempArray, result):\n",
    "        if len(tempArray) == 5:\n",
    "            result.append(tempArray[:])\n",
    "            return\n",
    "        \n",
    "        for i in range(2):\n",
    "            tempArray.append(i)\n",
    "            mintermBinary(tempArray, result)\n",
    "            tempArray.pop()\n",
    "\n",
    "\n",
    "            \n",
    "            \n",
    "run()"
   ]
  },
  {
   "cell_type": "code",
   "execution_count": null,
   "metadata": {
    "collapsed": true
   },
   "outputs": [],
   "source": []
  }
 ],
 "metadata": {
  "anaconda-cloud": {},
  "kernelspec": {
   "display_name": "Python [conda root]",
   "language": "python",
   "name": "conda-root-py"
  },
  "language_info": {
   "codemirror_mode": {
    "name": "ipython",
    "version": 3
   },
   "file_extension": ".py",
   "mimetype": "text/x-python",
   "name": "python",
   "nbconvert_exporter": "python",
   "pygments_lexer": "ipython3",
   "version": "3.5.2"
  }
 },
 "nbformat": 4,
 "nbformat_minor": 1
}
