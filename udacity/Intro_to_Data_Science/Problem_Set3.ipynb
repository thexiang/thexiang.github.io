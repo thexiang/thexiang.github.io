{
 "cells": [
  {
   "cell_type": "markdown",
   "metadata": {},
   "source": [
    "## Exploratory Data"
   ]
  },
  {
   "cell_type": "code",
   "execution_count": 1,
   "metadata": {
    "collapsed": false
   },
   "outputs": [
    {
     "data": {
      "image/png": "[encoded data removed]",
      "text/plain": [
       "<matplotlib.figure.Figure at 0xcc7d9e8>"
      ]
     },
     "metadata": {},
     "output_type": "display_data"
    }
   ],
   "source": [
    "import numpy as np\n",
    "import pandas as pd\n",
    "import matplotlib.pyplot as plt\n",
    "\n",
    "turnstile_weather = pd.read_csv('./data/turnstile_data_master_with_weather.csv')\n",
    "\n",
    "def entries_histogram(turnstile_weather):\n",
    "    '''\n",
    "    Before we perform any analysis, it might be useful to take a\n",
    "    look at the data we're hoping to analyze. More specifically, let's \n",
    "    examine the hourly entries in our NYC subway data and determine what\n",
    "    distribution the data follows. This data is stored in a dataframe\n",
    "    called turnstile_weather under the ['ENTRIESn_hourly'] column.\n",
    "    \n",
    "    Let's plot two histograms on the same axes to show hourly\n",
    "    entries when raining vs. when not raining. Here's an example on how\n",
    "    to plot histograms with pandas and matplotlib:\n",
    "    turnstile_weather['column_to_graph'].hist()\n",
    "    \n",
    "    Your histogram may look similar to bar graph in the instructor notes below.\n",
    "    \n",
    "    You can read a bit about using matplotlib and pandas to plot histograms here:\n",
    "    http://pandas.pydata.org/pandas-docs/stable/visualization.html#histograms\n",
    "    \n",
    "    You can see the information contained within the turnstile weather data here:\n",
    "    https://www.dropbox.com/s/meyki2wl9xfa7yk/turnstile_data_master_with_weather.csv\n",
    "    '''\n",
    "    \n",
    "    #plt.figure()\n",
    "    %matplotlib inline\n",
    "    turnstile_weather['ENTRIESn_hourly'].loc[turnstile_weather['rain']==1].hist(bins=30) # your code here to plot a historgram for hourly entries when it is raining\n",
    "    turnstile_weather['ENTRIESn_hourly'].loc[turnstile_weather['rain']==0].hist(bins=30) # your code here to plot a historgram for hourly entries when it is not raining\n",
    "    plt.title(\"Histogram of ENTRIESn_hourly\")\n",
    "    plt.legend(['No Rain','Rain'])\n",
    "    return None\n",
    "\n",
    "entries_histogram(turnstile_weather)"
   ]
  },
  {
   "cell_type": "markdown",
   "metadata": {},
   "source": [
    "## Mann-Whitney U-Test"
   ]
  },
  {
   "cell_type": "code",
   "execution_count": 2,
   "metadata": {
    "collapsed": false
   },
   "outputs": [
    {
     "name": "stdout",
     "output_type": "stream",
     "text": [
      "1105.44637675 1090.27878015 1949994921.0 0.0386192688276\n"
     ]
    }
   ],
   "source": [
    "import scipy.stats\n",
    "\n",
    "def mann_whitney_plus_means(turnstile_weather):\n",
    "    '''\n",
    "    This function will consume the turnstile_weather dataframe containing\n",
    "    our final turnstile weather data. \n",
    "    \n",
    "    You will want to take the means and run the Mann Whitney U-test on the \n",
    "    ENTRIESn_hourly column in the turnstile_weather dataframe.\n",
    "    \n",
    "    This function should return:\n",
    "        1) the mean of entries with rain\n",
    "        2) the mean of entries without rain\n",
    "        3) the Mann-Whitney U-statistic and p-value comparing the number of entries\n",
    "           with rain and the number of entries without rain\n",
    "    \n",
    "    You should feel free to use scipy's Mann-Whitney implementation, and you \n",
    "    might also find it useful to use numpy's mean function.\n",
    "    \n",
    "    Here are the functions' documentation:\n",
    "    http://docs.scipy.org/doc/scipy/reference/generated/scipy.stats.mannwhitneyu.html\n",
    "    http://docs.scipy.org/doc/numpy/reference/generated/numpy.mean.html\n",
    "    \n",
    "    You can look at the final turnstile weather data at the link below:\n",
    "    https://www.dropbox.com/s/meyki2wl9xfa7yk/turnstile_data_master_with_weather.csv\n",
    "    '''\n",
    "    \n",
    "    ### YOUR CODE HERE ###\n",
    "    rain = (turnstile_weather['rain']==1).values\n",
    "    with_rain_mean = turnstile_weather['ENTRIESn_hourly'].loc[rain].mean()\n",
    "    without_rain_mean = turnstile_weather['ENTRIESn_hourly'].loc[~rain].mean()\n",
    "    U,p = scipy.stats.mannwhitneyu(turnstile_weather['ENTRIESn_hourly'].loc[rain], \n",
    "                                  turnstile_weather['ENTRIESn_hourly'].loc[~rain])\n",
    "    \n",
    "    return with_rain_mean, without_rain_mean, U, p # leave this line for the grader\n",
    "\n",
    "(mu1, mu2, rain_mean, shine_mean) = mann_whitney_plus_means(turnstile_weather)\n",
    "\n",
    "print mu1, mu2, rain_mean, shine_mean"
   ]
  },
  {
   "cell_type": "markdown",
   "metadata": {},
   "source": [
    "## Linear Regression"
   ]
  },
  {
   "cell_type": "code",
   "execution_count": 3,
   "metadata": {
    "collapsed": false
   },
   "outputs": [
    {
     "name": "stdout",
     "output_type": "stream",
     "text": [
      "meantempi   -49.897744\n",
      "dtype: float64\n",
      "\n",
      "R^2 =  0.418795754462\n"
     ]
    },
    {
     "name": "stderr",
     "output_type": "stream",
     "text": [
      "c:\\users\\jeff\\anaconda2\\lib\\site-packages\\matplotlib\\__init__.py:872: UserWarning: axes.color_cycle is deprecated and replaced with axes.prop_cycle; please use the latter.\n",
      "  warnings.warn(self.msg_depr % (key, alt_key))\n"
     ]
    },
    {
     "data": {
      "image/png": "[encoded data removed]",
      "text/plain": [
       "<matplotlib.figure.Figure at 0x12fa11d0>"
      ]
     },
     "metadata": {},
     "output_type": "display_data"
    },
    {
     "data": {
      "text/plain": [
       "(array([ 4060.81041374,  4060.81041374,  4060.81041374, ...,    91.80985452,\n",
       "           91.80985452,    91.80985452]), <ggplot: (19924063)>)"
      ]
     },
     "execution_count": 3,
     "metadata": {},
     "output_type": "execute_result"
    }
   ],
   "source": [
    "from ggplot import *\n",
    "import sklearn.metrics\n",
    "\n",
    "\"\"\"\n",
    "In this question, you need to:\n",
    "1) implement the compute_cost() and gradient_descent() procedures\n",
    "2) Select features (in the predictions procedure) and make predictions.\n",
    "\n",
    "\"\"\"\n",
    "\n",
    "def normalize_features(df):\n",
    "    \"\"\"\n",
    "    Normalize the features in the data set.\n",
    "    \"\"\"\n",
    "    mu = df.mean()\n",
    "    sigma = df.std()\n",
    "    \n",
    "    if (sigma == 0).any():\n",
    "        raise Exception(\"One or more features had the same value for all samples, and thus could \" + \\\n",
    "                         \"not be normalized. Please do not include features with only a single value \" + \\\n",
    "                         \"in your model.\")\n",
    "    df_normalized = (df - df.mean()) / df.std()\n",
    "\n",
    "    return df_normalized, mu, sigma\n",
    "\n",
    "\n",
    "def compute_cost(features, values, theta):\n",
    "    \"\"\"\n",
    "    Compute the cost function given a set of features / values, \n",
    "    and the values for our thetas.\n",
    "    \n",
    "    This can be the same code as the compute_cost function in the lesson #3 exercises,\n",
    "    but feel free to implement your own.\n",
    "    \"\"\"\n",
    "    m = len(values)\n",
    "    sum_of_square_errors = np.square(np.dot(features, theta) - values).sum()\n",
    "    cost = sum_of_square_errors / (2*m)\n",
    "\n",
    "    return cost\n",
    "\n",
    "\n",
    "def gradient_descent(features, values, theta, alpha, num_iterations):\n",
    "    \"\"\"\n",
    "    Perform gradient descent given a data set with an arbitrary number of features.\n",
    "    \n",
    "    This can be the same gradient descent code as in the lesson #3 exercises,\n",
    "    but feel free to implement your own.\n",
    "    \"\"\"\n",
    "    \n",
    "    m = len(values)\n",
    "    cost_history = []\n",
    "\n",
    "    for i in range(num_iterations):\n",
    "        cost_history.append( compute_cost(features, values, theta))\n",
    "        theta += alpha/len(values)*np.dot(features.transpose(), values - np.dot(features,theta))\n",
    "        \n",
    "    return theta, pd.Series(cost_history)\n",
    "\n",
    "\n",
    "def predictions(dataframe):\n",
    "    '''\n",
    "    The NYC turnstile data is stored in a pandas dataframe called weather_turnstile.\n",
    "    Using the information stored in the dataframe, let's predict the ridership of\n",
    "    the NYC subway using linear regression with gradient descent.\n",
    "    \n",
    "    You can download the complete turnstile weather dataframe here:\n",
    "    https://www.dropbox.com/s/meyki2wl9xfa7yk/turnstile_data_master_with_weather.csv    \n",
    "    \n",
    "    Your prediction should have a R^2 value of 0.40 or better.\n",
    "    You need to experiment using various input features contained in the dataframe. \n",
    "    We recommend that you don't use the EXITSn_hourly feature as an input to the \n",
    "    linear model because we cannot use it as a predictor: we cannot use exits \n",
    "    counts as a way to predict entry counts. \n",
    "    \n",
    "    Note: Due to the memory and CPU limitation of our Amazon EC2 instance, we will\n",
    "    give you a random subet (~15%) of the data contained in \n",
    "    turnstile_data_master_with_weather.csv. You are encouraged to experiment with \n",
    "    this computer on your own computer, locally. \n",
    "    \n",
    "    \n",
    "    If you'd like to view a plot of your cost history, uncomment the call to \n",
    "    plot_cost_history below. The slowdown from plotting is significant, so if you \n",
    "    are timing out, the first thing to do is to comment out the plot command again.\n",
    "    \n",
    "    If you receive a \"server has encountered an error\" message, that means you are \n",
    "    hitting the 30-second limit that's placed on running your program. Try using a \n",
    "    smaller number for num_iterations if that's the case.\n",
    "    \n",
    "    If you are using your own algorithm/models, see if you can optimize your code so \n",
    "    that it runs faster.\n",
    "    \n",
    "    [u'Unnamed: 0', u'UNIT', u'DATEn', u'TIMEn', u'Hour', u'DESCn',\n",
    "       u'ENTRIESn_hourly', u'EXITSn_hourly', u'maxpressurei', u'maxdewpti',\n",
    "       u'mindewpti', u'minpressurei', u'meandewpti', u'meanpressurei', u'fog',\n",
    "       u'rain', u'meanwindspdi', u'mintempi', u'meantempi', u'maxtempi',\n",
    "       u'precipi', u'thunder']\n",
    "    '''\n",
    "    # Select Features (try different features!)\n",
    "    feature_names = ['meantempi']\n",
    "    features = dataframe[feature_names]\n",
    "    \n",
    "    # Add UNIT to features using dummy variables\n",
    "    dummy_units = pd.get_dummies(dataframe['UNIT'], prefix='unit')\n",
    "    features = features.join(dummy_units)\n",
    "    \n",
    "    # Values\n",
    "    values = dataframe['ENTRIESn_hourly']\n",
    "    m = len(values)\n",
    "\n",
    "    features, mu, sigma = normalize_features(features)\n",
    "    features['ones'] = np.ones(m) # Add a column of 1s (y intercept)\n",
    "    \n",
    "    # Convert features and values to numpy arrays\n",
    "    features_array = np.array(features)\n",
    "    values_array = np.array(values)\n",
    "\n",
    "    # Set values for alpha, number of iterations.\n",
    "    alpha = 0.1 # please feel free to change this value\n",
    "    num_iterations = 75 # please feel free to change this value\n",
    "\n",
    "    # Initialize theta, perform gradient descent\n",
    "    theta_gradient_descent = np.zeros(len(features.columns))\n",
    "    theta_gradient_descent, cost_history = gradient_descent(features_array, \n",
    "                                                            values_array, \n",
    "                                                            theta_gradient_descent, \n",
    "                                                            alpha, \n",
    "                                                            num_iterations)\n",
    "    \n",
    "    plot = None\n",
    "    # -------------------------------------------------\n",
    "    # Uncomment the next line to see your cost history\n",
    "    # -------------------------------------------------\n",
    "    # \n",
    "    plot = plot_cost_history(alpha, cost_history)\n",
    "    # \n",
    "    # Please note, there is a possibility that plotting\n",
    "    # this in addition to your calculation will exceed \n",
    "    # the 30 second limit on the compute servers.\n",
    "    \n",
    "    predictions = np.dot(features_array, theta_gradient_descent)\n",
    "    print pd.Series(data=theta_gradient_descent[:len(feature_names)], index=feature_names)\n",
    "    print '\\n', 'R^2 = ', sklearn.metrics.r2_score(values_array, predictions)\n",
    "    return predictions, plot\n",
    "\n",
    "\n",
    "def plot_cost_history(alpha, cost_history):\n",
    "   \"\"\"This function is for viewing the plot of your cost history.\n",
    "   You can run it by uncommenting this\n",
    "\n",
    "       plot_cost_history(alpha, cost_history) \n",
    "\n",
    "   call in predictions.\n",
    "   \n",
    "   If you want to run this locally, you should print the return value\n",
    "   from this function.\n",
    "   \"\"\"\n",
    "   cost_df = pd.DataFrame({\n",
    "      'Cost_History': cost_history,\n",
    "      'Iteration': range(len(cost_history))\n",
    "   })\n",
    "   return ggplot(cost_df, aes('Iteration', 'Cost_History')) + \\\n",
    "      geom_point() + ggtitle('Cost History for alpha = %.3f' % alpha )\n",
    "\n",
    "\n",
    "data = pd.read_csv('./data/turnstile_data_master_with_weather.csv')\n",
    "predictions(data)"
   ]
  },
  {
   "cell_type": "markdown",
   "metadata": {},
   "source": [
    "## Plotting Residuals"
   ]
  },
  {
   "cell_type": "code",
   "execution_count": 4,
   "metadata": {
    "collapsed": true
   },
   "outputs": [],
   "source": [
    "def plot_residuals(turnstile_weather, predictions):\n",
    "    '''\n",
    "    Using the same methods that we used to plot a histogram of entries\n",
    "    per hour for our data, why don't you make a histogram of the residuals\n",
    "    (that is, the difference between the original hourly entry data and the predicted values).\n",
    "    Try different binwidths for your histogram.\n",
    "\n",
    "    Based on this residual histogram, do you have any insight into how our model\n",
    "    performed?  Reading a bit on this webpage might be useful:\n",
    "\n",
    "    http://www.itl.nist.gov/div898/handbook/pri/section2/pri24.htm\n",
    "    '''\n",
    "    \n",
    "    plt.figure()\n",
    "    (turnstile_weather['ENTRIESn_hourly'] - predictions).hist(bins=50)\n",
    "    return plt"
   ]
  },
  {
   "cell_type": "markdown",
   "metadata": {},
   "source": [
    "## Compute R^2"
   ]
  },
  {
   "cell_type": "code",
   "execution_count": 5,
   "metadata": {
    "collapsed": true
   },
   "outputs": [],
   "source": [
    "import sys\n",
    "\n",
    "def compute_r_squared(data, predictions):\n",
    "    '''\n",
    "    In exercise 5, we calculated the R^2 value for you. But why don't you try and\n",
    "    and calculate the R^2 value yourself.\n",
    "    \n",
    "    Given a list of original data points, and also a list of predicted data points,\n",
    "    write a function that will compute and return the coefficient of determination (R^2)\n",
    "    for this data.  numpy.mean() and numpy.sum() might both be useful here, but\n",
    "    not necessary.\n",
    "\n",
    "    Documentation about numpy.mean() and numpy.sum() below:\n",
    "    http://docs.scipy.org/doc/numpy/reference/generated/numpy.mean.html\n",
    "    http://docs.scipy.org/doc/numpy/reference/generated/numpy.sum.html\n",
    "    '''\n",
    "    \n",
    "    # your code here\n",
    "    \n",
    "    return sklearn.metrics.r2_score(data, predictions)"
   ]
  },
  {
   "cell_type": "markdown",
   "metadata": {},
   "source": [
    "## More Linear Regression"
   ]
  },
  {
   "cell_type": "code",
   "execution_count": 6,
   "metadata": {
    "collapsed": false
   },
   "outputs": [
    {
     "name": "stdout",
     "output_type": "stream",
     "text": [
      "R^2 =  0.457998269578\n"
     ]
    }
   ],
   "source": [
    "import scipy\n",
    "import statsmodels.api as sm\n",
    "\n",
    "\"\"\"\n",
    "In this optional exercise, you should complete the function called \n",
    "predictions(turnstile_weather). This function takes in our pandas \n",
    "turnstile weather dataframe, and returns a set of predicted ridership values,\n",
    "based on the other information in the dataframe.  \n",
    "\n",
    "In exercise 3.5 we used Gradient Descent in order to compute the coefficients\n",
    "theta used for the ridership prediction. Here you should attempt to implement \n",
    "another way of computing the coeffcients theta. You may also try using a reference implementation such as: \n",
    "http://statsmodels.sourceforge.net/devel/generated/statsmodels.regression.linear_model.OLS.html\n",
    "\n",
    "One of the advantages of the statsmodels implementation is that it gives you\n",
    "easy access to the values of the coefficients theta. This can help you infer relationships \n",
    "between variables in the dataset.\n",
    "\n",
    "You may also experiment with polynomial terms as part of the input variables.  \n",
    "\n",
    "The following links might be useful: \n",
    "http://en.wikipedia.org/wiki/Ordinary_least_squares\n",
    "http://en.wikipedia.org/w/index.php?title=Linear_least_squares_(mathematics)\n",
    "http://en.wikipedia.org/wiki/Polynomial_regression\n",
    "\n",
    "This is your playground. Go wild!\n",
    "\n",
    "How does your choice of linear regression compare to linear regression\n",
    "with gradient descent computed in Exercise 3.5?\n",
    "\n",
    "You can look at the information contained in the turnstile_weather dataframe below:\n",
    "https://www.dropbox.com/s/meyki2wl9xfa7yk/turnstile_data_master_with_weather.csv\n",
    "\n",
    "Note: due to the memory and CPU limitation of our amazon EC2 instance, we will\n",
    "give you a random subset (~10%) of the data contained in turnstile_data_master_with_weather.csv\n",
    "\n",
    "If you receive a \"server has encountered an error\" message, that means you are hitting \n",
    "the 30 second limit that's placed on running your program. See if you can optimize your code so it\n",
    "runs faster.\n",
    "\"\"\"\n",
    "\n",
    "def predictions(weather_turnstile):\n",
    "    # select the features to use\n",
    "    feature_names = ['meantempi','Hour']\n",
    "    \n",
    "    # initialize the Y values\n",
    "    X = sm.add_constant(weather_turnstile[feature_names])\n",
    "    Y = weather_turnstile['ENTRIESn_hourly']\n",
    "    \n",
    "    # initialize the X features ==> add dummy units, standardize, and add constant\n",
    "    dummy_units = pd.get_dummies(weather_turnstile['UNIT'], prefix='unit')\n",
    "    X = weather_turnstile[feature_names].join(dummy_units)\n",
    "    X, mu, sigma = normalize_features(X)\n",
    "    X = sm.add_constant(X)\n",
    "    \n",
    "    # ordinary least squares model\n",
    "    model = sm.OLS(Y,X)\n",
    "    \n",
    "    # fit the model\n",
    "    results = model.fit()\n",
    "    #print results.summary()\n",
    "    print 'R^2 = ', results.rsquared\n",
    "    \n",
    "    # predict\n",
    "    prediction = results.predict(X)\n",
    "    \n",
    "    return prediction\n",
    "\n",
    "prediction = predictions(turnstile_weather)"
   ]
  }
 ],
 "metadata": {
  "kernelspec": {
   "display_name": "Python 2",
   "language": "python",
   "name": "python2"
  },
  "language_info": {
   "codemirror_mode": {
    "name": "ipython",
    "version": 2
   },
   "file_extension": ".py",
   "mimetype": "text/x-python",
   "name": "python",
   "nbconvert_exporter": "python",
   "pygments_lexer": "ipython2",
   "version": "2.7.11"
  }
 },
 "nbformat": 4,
 "nbformat_minor": 0
}
