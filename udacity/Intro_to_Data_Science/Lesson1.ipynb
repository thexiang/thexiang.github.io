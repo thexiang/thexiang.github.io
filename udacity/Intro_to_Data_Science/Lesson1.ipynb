{
 "cells": [
  {
   "cell_type": "markdown",
   "metadata": {},
   "source": [
    "# Numpy\n",
    "\n",
    "Resource: [Intro to pandas data structures](http://www.gregreda.com/2013/10/26/intro-to-pandas-data-structures/)"
   ]
  },
  {
   "cell_type": "code",
   "execution_count": 1,
   "metadata": {
    "collapsed": false
   },
   "outputs": [
    {
     "name": "stdout",
     "output_type": "stream",
     "text": [
      "   losses     team  wins  year\n",
      "0       5    Bears    11  2010\n",
      "1       8    Bears     8  2011\n",
      "2       6    Bears    10  2012\n",
      "3       1  Packers    15  2011\n",
      "4       5  Packers    11  2012\n",
      "5      10    Lions     6  2010\n",
      "6       6    Lions    10  2011\n",
      "7      12    Lions     4  2012 \n",
      "\n",
      "       0      1      2        3        4      5      6      7\n",
      "0   2010   2011   2012     2011     2012   2010   2011   2012\n",
      "1  Bears  Bears  Bears  Packers  Packers  Lions  Lions  Lions\n",
      "2     11      8     10       15       11      6     10      4\n",
      "3      5      8      6        1        5     10      6     12 \n",
      "\n",
      "      0        1   2   3\n",
      "0  2010    Bears  11   5\n",
      "1  2011    Bears   8   8\n",
      "2  2012    Bears  10   6\n",
      "3  2011  Packers  15   1\n",
      "4  2012  Packers  11   5\n",
      "5  2010    Lions   6  10\n",
      "6  2011    Lions  10   6\n",
      "7  2012    Lions   4  12\n"
     ]
    }
   ],
   "source": [
    "import pandas as pd\n",
    "\n",
    "data = {'year': [2010, 2011, 2012, 2011, 2012, 2010, 2011, 2012],\n",
    "    'team': ['Bears', 'Bears', 'Bears', 'Packers', 'Packers', 'Lions',\n",
    "    'Lions', 'Lions'],\n",
    "    'wins': [11, 8, 10, 15, 11, 6, 10, 4],\n",
    "    'losses': [5, 8, 6, 1, 5, 10, 6, 12]}\n",
    "football = pd.DataFrame(data)\n",
    "print football, \"\\n\"\n",
    "\n",
    "data2 = [data['year'], data['team'], data['wins'], data['losses']]\n",
    "football2 = pd.DataFrame(data2)\n",
    "print football2, \"\\n\"\n",
    "print football2.T"
   ]
  },
  {
   "cell_type": "markdown",
   "metadata": {},
   "source": [
    "## Dataframe -- Olympic Medal Counts"
   ]
  },
  {
   "cell_type": "code",
   "execution_count": 2,
   "metadata": {
    "collapsed": true
   },
   "outputs": [],
   "source": [
    "from pandas import DataFrame, Series\n",
    "\n",
    "def create_dataframe():\n",
    "    '''\n",
    "    Create a pandas dataframe called 'olympic_medal_counts_df' containing\n",
    "    the data from the table of 2014 Sochi winter olympics medal counts.  \n",
    "\n",
    "    The columns for this dataframe should be called \n",
    "    'country_name', 'gold', 'silver', and 'bronze'.  \n",
    "\n",
    "    There is no need to  specify row indexes for this dataframe \n",
    "    (in this case, the rows will automatically be assigned numbered indexes).\n",
    "    '''\n",
    "\n",
    "    countries = ['Russian Fed.', 'Norway', 'Canada', 'United States',\n",
    "                 'Netherlands', 'Germany', 'Switzerland', 'Belarus',\n",
    "                 'Austria', 'France', 'Poland', 'China', 'Korea', \n",
    "                 'Sweden', 'Czech Republic', 'Slovenia', 'Japan',\n",
    "                 'Finland', 'Great Britain', 'Ukraine', 'Slovakia',\n",
    "                 'Italy', 'Latvia', 'Australia', 'Croatia', 'Kazakhstan']\n",
    "\n",
    "    gold = [13, 11, 10, 9, 8, 8, 6, 5, 4, 4, 4, 3, 3, 2, 2, 2, 1, 1, 1, 1, 1, 0, 0, 0, 0, 0]\n",
    "    silver = [11, 5, 10, 7, 7, 6, 3, 0, 8, 4, 1, 4, 3, 7, 4, 2, 4, 3, 1, 0, 0, 2, 2, 2, 1, 0]\n",
    "    bronze = [9, 10, 5, 12, 9, 5, 2, 1, 5, 7, 1, 2, 2, 6, 2, 4, 3, 1, 2, 1, 0, 6, 2, 1, 0, 1]\n",
    "\n",
    "    # your code here\n",
    "    olympic_medal_counts_df = DataFrame({'country_name':countries, 'gold':gold, 'silver':silver, 'bronze':bronze},\n",
    "        columns=['country_name','gold','silver','bronze'])\n",
    "\n",
    "    return olympic_medal_counts_df\n"
   ]
  },
  {
   "cell_type": "markdown",
   "metadata": {},
   "source": [
    "## Selecting from a DataFrame"
   ]
  },
  {
   "cell_type": "code",
   "execution_count": 3,
   "metadata": {
    "collapsed": false
   },
   "outputs": [
    {
     "name": "stdout",
     "output_type": "stream",
     "text": [
      "    country_name  gold  silver  bronze\n",
      "0   Russian Fed.    13      11       9\n",
      "1         Norway    11       5      10\n",
      "2         Canada    10      10       5\n",
      "3  United States     9       7      12\n",
      "\n",
      "    country_name  gold  silver  bronze\n",
      "0   Russian Fed.    13      11       9\n",
      "1         Norway    11       5      10\n",
      "2         Canada    10      10       5\n",
      "3  United States     9       7      12\n",
      "\n",
      "    country_name  gold  silver  bronze\n",
      "0   Russian Fed.    13      11       9\n",
      "1         Norway    11       5      10\n",
      "2         Canada    10      10       5\n",
      "3  United States     9       7      12\n",
      "\n",
      "               gold  silver  bronze\n",
      "country_name                       \n",
      "Russian Fed.     13      11       9\n",
      "Norway           11       5      10\n",
      "Canada           10      10       5\n",
      "United States     9       7      12\n",
      "\n",
      "               gold  silver  bronze\n",
      "country_name                       \n",
      "Russian Fed.     13      11       9\n",
      "Norway           11       5      10\n",
      "Canada           10      10       5\n",
      "United States     9       7      12\n",
      "\n",
      "    country_name  silver\n",
      "0   Russian Fed.      11\n",
      "1         Norway       5\n",
      "2         Canada      10\n",
      "3  United States       7\n",
      "\n",
      "    country_name  silver\n",
      "0   Russian Fed.      11\n",
      "1         Norway       5\n",
      "2         Canada      10\n",
      "3  United States       7\n",
      "\n",
      "   country_name  gold\n",
      "0  Russian Fed.    13\n",
      "1        Norway    11\n",
      "2        Canada    10\n"
     ]
    }
   ],
   "source": [
    "# the medal count data frame\n",
    "df = create_dataframe()\n",
    "\n",
    "# create a data frame indexed by country\n",
    "df2 = df.set_index('country_name')\n",
    "\n",
    "# select the first 4 rows\n",
    "print df[0:4] # slicing\n",
    "print \"\"\n",
    "print df.iloc[0:4] # .iloc (integer location)\n",
    "print \"\"\n",
    "print df.loc[0:3] # .loc (label location)\n",
    "print \"\"\n",
    "\n",
    "# select the first 4 rows ==> .loc doesn't work using an integer slice\n",
    "print df2[0:4]\n",
    "print \"\"\n",
    "print df2.iloc[0:4] # .iloc (integer location)\n",
    "print \"\"\n",
    "\n",
    "# select the first 4 rows for the \"country_name\" and \"silver\" columns\n",
    "print df[[0,2]][0:4] # slicing\n",
    "print \"\"\n",
    "print df[[\"country_name\", \"silver\"]].iloc[0:4] # .iloc (integer location)\n",
    "print \"\"\n",
    "\n",
    "# countries with 10 or more gold medals\n",
    "print df[['country_name','gold']][df.gold >= 10]"
   ]
  },
  {
   "cell_type": "markdown",
   "metadata": {},
   "source": [
    "## Average Bronze Medals"
   ]
  },
  {
   "cell_type": "code",
   "execution_count": 4,
   "metadata": {
    "collapsed": true
   },
   "outputs": [],
   "source": [
    "from pandas import DataFrame, Series\n",
    "import numpy as np\n",
    "\n",
    "\n",
    "def avg_medal_count():\n",
    "    '''\n",
    "    Compute the average number of bronze medals earned by countries who \n",
    "    earned at least one gold medal.  \n",
    "    \n",
    "    Save this to a variable named avg_bronze_at_least_one_gold. \n",
    "    \n",
    "    HINT-1:\n",
    "    You can retrieve all of the values of a Pandas column from a \n",
    "    data frame, \"df\", as follows:\n",
    "    df['column_name']\n",
    "    \n",
    "    HINT-2:\n",
    "    The numpy.mean function can accept as an argument a single\n",
    "    Pandas column. \n",
    "    \n",
    "    For example, numpy.mean(df[\"col_name\"]) would return the \n",
    "    mean of the values located in \"col_name\" of a dataframe df.\n",
    "    '''\n",
    "\n",
    "\n",
    "    countries = ['Russian Fed.', 'Norway', 'Canada', 'United States',\n",
    "                 'Netherlands', 'Germany', 'Switzerland', 'Belarus',\n",
    "                 'Austria', 'France', 'Poland', 'China', 'Korea', \n",
    "                 'Sweden', 'Czech Republic', 'Slovenia', 'Japan',\n",
    "                 'Finland', 'Great Britain', 'Ukraine', 'Slovakia',\n",
    "                 'Italy', 'Latvia', 'Australia', 'Croatia', 'Kazakhstan']\n",
    "\n",
    "    gold = [13, 11, 10, 9, 8, 8, 6, 5, 4, 4, 4, 3, 3, 2, 2, 2, 1, 1, 1, 1, 1, 0, 0, 0, 0, 0]\n",
    "    silver = [11, 5, 10, 7, 7, 6, 3, 0, 8, 4, 1, 4, 3, 7, 4, 2, 4, 3, 1, 0, 0, 2, 2, 2, 1, 0]\n",
    "    bronze = [9, 10, 5, 12, 9, 5, 2, 1, 5, 7, 1, 2, 2, 6, 2, 4, 3, 1, 2, 1, 0, 6, 2, 1, 0, 1]\n",
    "    \n",
    "    olympic_medal_counts = {'country_name':Series(countries),\n",
    "                            'gold': Series(gold),\n",
    "                            'silver': Series(silver),\n",
    "                            'bronze': Series(bronze)}\n",
    "    df = DataFrame(olympic_medal_counts)\n",
    "    \n",
    "    # YOUR CODE HERE\n",
    "    avg_bronze_at_least_one_gold = np.mean(df.bronze[df.gold > 0])\n",
    "\n",
    "    return avg_bronze_at_least_one_gold"
   ]
  },
  {
   "cell_type": "markdown",
   "metadata": {},
   "source": [
    "## Average Gold, Silver, and Bronze Medals"
   ]
  },
  {
   "cell_type": "code",
   "execution_count": 5,
   "metadata": {
    "collapsed": false
   },
   "outputs": [],
   "source": [
    "import numpy as np\n",
    "from pandas import DataFrame, Series\n",
    "\n",
    "\n",
    "def avg_medal_count():\n",
    "    '''\n",
    "    Using the dataframe's apply method, create a new Series called \n",
    "    avg_medal_count that indicates the average number of gold, silver,\n",
    "    and bronze medals earned amongst countries who earned at \n",
    "    least one medal of any kind at the 2014 Sochi olympics.  Note that\n",
    "    the countries list already only includes countries that have earned\n",
    "    at least one medal. No additional filtering is necessary.\n",
    "    '''\n",
    "\n",
    "    countries = ['Russian Fed.', 'Norway', 'Canada', 'United States',\n",
    "                 'Netherlands', 'Germany', 'Switzerland', 'Belarus',\n",
    "                 'Austria', 'France', 'Poland', 'China', 'Korea', \n",
    "                 'Sweden', 'Czech Republic', 'Slovenia', 'Japan',\n",
    "                 'Finland', 'Great Britain', 'Ukraine', 'Slovakia',\n",
    "                 'Italy', 'Latvia', 'Australia', 'Croatia', 'Kazakhstan']\n",
    "\n",
    "    gold = [13, 11, 10, 9, 8, 8, 6, 5, 4, 4, 4, 3, 3, 2, 2, 2, 1, 1, 1, 1, 1, 0, 0, 0, 0, 0]\n",
    "    silver = [11, 5, 10, 7, 7, 6, 3, 0, 8, 4, 1, 4, 3, 7, 4, 2, 4, 3, 1, 0, 0, 2, 2, 2, 1, 0]\n",
    "    bronze = [9, 10, 5, 12, 9, 5, 2, 1, 5, 7, 1, 2, 2, 6, 2, 4, 3, 1, 2, 1, 0, 6, 2, 1, 0, 1]\n",
    "    \n",
    "    olympic_medal_counts = {'country_name':countries,\n",
    "                            'gold': Series(gold),\n",
    "                            'silver': Series(silver),\n",
    "                            'bronze': Series(bronze)}    \n",
    "    df = DataFrame(olympic_medal_counts)\n",
    "    \n",
    "    # YOUR CODE HERE\n",
    "    avg_medal_count = df[['gold','silver','bronze']].mean()\n",
    "    # using apply: avg_medal_count = df[['gold','silver','bronze']].apply(np.mean)\n",
    "    \n",
    "    return avg_medal_count"
   ]
  },
  {
   "cell_type": "markdown",
   "metadata": {},
   "source": [
    "## Olympic Medal Points"
   ]
  },
  {
   "cell_type": "code",
   "execution_count": 6,
   "metadata": {
    "collapsed": false
   },
   "outputs": [],
   "source": [
    "import numpy as np\n",
    "from pandas import DataFrame, Series\n",
    "\n",
    "def numpy_dot():\n",
    "    '''\n",
    "    Imagine a point system in which each country is awarded 4 points for each\n",
    "    gold medal,  2 points for each silver medal, and one point for each \n",
    "    bronze medal.  \n",
    "\n",
    "    Using the numpy.dot function, create a new dataframe called \n",
    "    'olympic_points_df' that includes:\n",
    "        a) a column called 'country_name' with the country name\n",
    "        b) a column called 'points' with the total number of points the country\n",
    "           earned at the Sochi olympics.\n",
    "    '''\n",
    "\n",
    "    countries = ['Russian Fed.', 'Norway', 'Canada', 'United States',\n",
    "                 'Netherlands', 'Germany', 'Switzerland', 'Belarus',\n",
    "                 'Austria', 'France', 'Poland', 'China', 'Korea', \n",
    "                 'Sweden', 'Czech Republic', 'Slovenia', 'Japan',\n",
    "                 'Finland', 'Great Britain', 'Ukraine', 'Slovakia',\n",
    "                 'Italy', 'Latvia', 'Australia', 'Croatia', 'Kazakhstan']\n",
    "\n",
    "    gold = [13, 11, 10, 9, 8, 8, 6, 5, 4, 4, 4, 3, 3, 2, 2, 2, 1, 1, 1, 1, 1, 0, 0, 0, 0, 0]\n",
    "    silver = [11, 5, 10, 7, 7, 6, 3, 0, 8, 4, 1, 4, 3, 7, 4, 2, 4, 3, 1, 0, 0, 2, 2, 2, 1, 0]\n",
    "    bronze = [9, 10, 5, 12, 9, 5, 2, 1, 5, 7, 1, 2, 2, 6, 2, 4, 3, 1, 2, 1, 0, 6, 2, 1, 0, 1]\n",
    " \n",
    "    # YOUR CODE HERE\n",
    "    olympic_points_df = DataFrame({'country_name':countries, 'points':np.dot([4,2,1], [gold, silver, bronze])})\n",
    "    \n",
    "    return olympic_points_df"
   ]
  }
 ],
 "metadata": {
  "kernelspec": {
   "display_name": "Python 2",
   "language": "python",
   "name": "python2"
  },
  "language_info": {
   "codemirror_mode": {
    "name": "ipython",
    "version": 2
   },
   "file_extension": ".py",
   "mimetype": "text/x-python",
   "name": "python",
   "nbconvert_exporter": "python",
   "pygments_lexer": "ipython2",
   "version": "2.7.11"
  }
 },
 "nbformat": 4,
 "nbformat_minor": 0
}
