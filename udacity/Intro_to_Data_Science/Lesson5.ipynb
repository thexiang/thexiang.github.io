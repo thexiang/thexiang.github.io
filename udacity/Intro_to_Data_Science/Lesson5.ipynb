{
 "cells": [
  {
   "cell_type": "markdown",
   "metadata": {},
   "source": [
    "## Counting Words Serially"
   ]
  },
  {
   "cell_type": "code",
   "execution_count": 1,
   "metadata": {
    "collapsed": false
   },
   "outputs": [
    {
     "name": "stdout",
     "output_type": "stream",
     "text": [
      "{'a': 2, 'bd': 1, 'c': 1, 'b': 2, 'ab': 1, 'sdlkjf': 1, 'cd': 1}\n"
     ]
    }
   ],
   "source": [
    "import logging\n",
    "import sys\n",
    "import string\n",
    "from collections import defaultdict\n",
    "\n",
    "\n",
    "def word_count(s):\n",
    "    # For this exercise, write a program that serially counts the number of occurrences\n",
    "    # of each word in the book Alice in Wonderland.\n",
    "    #\n",
    "    # The text of Alice in Wonderland will be fed into your program line-by-line.\n",
    "    # Your program needs to take each line and do the following:\n",
    "    # 1) Tokenize the line into string tokens by whitespace\n",
    "    #    Example: \"Hello, World!\" should be converted into \"Hello,\" and \"World!\"\n",
    "    #    (This part has been done for you.)\n",
    "    #\n",
    "    # 2) Remove all punctuation\n",
    "    #    Example: \"Hello,\" and \"World!\" should be converted into \"Hello\" and \"World\"\n",
    "    #\n",
    "    # 3) Make all letters lowercase\n",
    "    #    Example: \"Hello\" and \"World\" should be converted to \"hello\" and \"world\"\n",
    "    #\n",
    "    # Store the the number of times that a word appears in Alice in Wonderland\n",
    "    # in the word_counts dictionary, and then *print* (don't return) that dictionary\n",
    "    #\n",
    "    # In this exercise, print statements will be considered your final output. Because\n",
    "    # of this, printing a debug statement will cause the grader to break. Instead, \n",
    "    # you can use the logging module which we've configured for you.\n",
    "    #\n",
    "    # For example:\n",
    "    # logging.info(\"My debugging message\")\n",
    "    #\n",
    "    # The logging module can be used to give you more control over your\n",
    "    # debugging or other messages than you can get by printing them. Messages \n",
    "    # logged via the logger we configured will be saved to a\n",
    "    # file. If you click \"Test Run\", then you will see the contents of that file\n",
    "    # once your program has finished running.\n",
    "    # \n",
    "    # The logging module also has other capabilities; see \n",
    "    # https://docs.python.org/2/library/logging.html\n",
    "    # for more information.\n",
    "\n",
    "    word_counts = defaultdict(int)\n",
    "\n",
    "    for line in s:#ys.stdin:\n",
    "        data = line.strip().split(\" \")\n",
    "        for i in data:\n",
    "            word = i.translate(string.maketrans(\"\",\"\"),string.punctuation).lower()\n",
    "            word_counts[word] += 1\n",
    "            \n",
    "    word_counts = dict(word_counts)\n",
    "    print word_counts\n",
    "    \n",
    "word_count(['a b c a ab cd', 'b bd, sdlkjf'])"
   ]
  },
  {
   "cell_type": "markdown",
   "metadata": {},
   "source": [
    "## Mapper and Reducer with Aadhaar Data"
   ]
  },
  {
   "cell_type": "code",
   "execution_count": 2,
   "metadata": {
    "collapsed": true
   },
   "outputs": [],
   "source": [
    "def mapper():\n",
    "\n",
    "    #Also make sure to fill out the reducer code before clicking \"Test Run\" or \"Submit\".\n",
    "\n",
    "    #Each line will be a comma-separated list of values. The\n",
    "    #header row WILL be included. Tokenize each row using the \n",
    "    #commas, and emit (i.e. print) a key-value pair containing the \n",
    "    #district (not state) and Aadhaar generated, separated by a tab. \n",
    "    #Skip rows without the correct number of tokens and also skip \n",
    "    #the header row.\n",
    "\n",
    "    #You can see a copy of the the input Aadhaar data\n",
    "    #in the link below:\n",
    "    #https://www.dropbox.com/s/vn8t4uulbsfmalo/aadhaar_data.csv\n",
    "\n",
    "    #Since you are printing the output of your program, printing a debug \n",
    "    #statement will interfere with the operation of the grader. Instead, \n",
    "    #use the logging module, which we've configured to log to a file printed \n",
    "    #when you click \"Test Run\". For example:\n",
    "    #logging.info(\"My debugging message\")\n",
    "    #\n",
    "    #Note that, unlike print, logging.info will take only a single argument.\n",
    "    #So logging.info(\"my message\") will work, but logging.info(\"my\",\"message\") will not.\n",
    "    \n",
    "    for line in sys.stdin:\n",
    "        data = line.strip().split(',')\n",
    "        if len(data) == 12 and data[3]!='District':\n",
    "            print '{0}\\t{1}'.format(data[3], data[8])\n",
    "\n",
    "    return None\n",
    "\n",
    "mapper()\n",
    "\n",
    "\n",
    "\n",
    "def reducer():\n",
    "    \n",
    "    #Also make sure to fill out the mapper code before clicking \"Test Run\" or \"Submit\".\n",
    "\n",
    "    #Each line will be a key-value pair separated by a tab character.\n",
    "    #Print out each key once, along with the total number of Aadhaar \n",
    "    #generated, separated by a tab. Make sure each key-value pair is \n",
    "    #formatted correctly! Here's a sample final key-value pair: 'Gujarat\\t5.0'\n",
    "\n",
    "    #Since you are printing the output of your program, printing a debug \n",
    "    #statement will interfere with the operation of the grader. Instead, \n",
    "    #use the logging module, which we've configured to log to a file printed \n",
    "    #when you click \"Test Run\". For example:\n",
    "    #logging.info(\"My debugging message\")\n",
    "    #Note that, unlike print, logging.info will take only a single argument.\n",
    "    #So logging.info(\"my message\") will work, but logging.info(\"my\",\"message\") will not.\n",
    "        \n",
    "    old_district = None\n",
    "    for line in sys.stdin:\n",
    "        data_mapped = line.strip().split('\\t')\n",
    "        if len(data_mapped) != 2:\n",
    "            # Something has gone wrong. Skip this line.\n",
    "            continue\n",
    "        \n",
    "        # same district\n",
    "        if old_district and data_mapped[0] == old_district:\n",
    "            count += float(data_mapped[1])\n",
    "            \n",
    "        # new district\n",
    "        else:\n",
    "            # not the first district\n",
    "            if old_district:\n",
    "                print '{0}\\t{1}'.format(old_district,count)\n",
    "                \n",
    "            old_district = data_mapped[0]\n",
    "            count = float(data_mapped[1])\n",
    "            \n",
    "    # print the last district\n",
    "    print '{0}\\t{1}'.format(old_district,count)\n",
    "    \n",
    "    return None"
   ]
  }
 ],
 "metadata": {
  "kernelspec": {
   "display_name": "Python 2",
   "language": "python",
   "name": "python2"
  },
  "language_info": {
   "codemirror_mode": {
    "name": "ipython",
    "version": 2
   },
   "file_extension": ".py",
   "mimetype": "text/x-python",
   "name": "python",
   "nbconvert_exporter": "python",
   "pygments_lexer": "ipython2",
   "version": "2.7.11"
  }
 },
 "nbformat": 4,
 "nbformat_minor": 0
}
