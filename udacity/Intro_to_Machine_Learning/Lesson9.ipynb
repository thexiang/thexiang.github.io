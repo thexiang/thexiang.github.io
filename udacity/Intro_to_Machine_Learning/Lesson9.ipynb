{
 "cells": [
  {
   "cell_type": "markdown",
   "metadata": {},
   "source": [
    "## Min/Max Scaler in `sklearn`"
   ]
  },
  {
   "cell_type": "code",
   "execution_count": 1,
   "metadata": {
    "collapsed": false
   },
   "outputs": [],
   "source": [
    "import sys\n",
    "sys.path.append(\"C:/Users/Jeff/udacity/Intro_to_Machine_Learning/ud120-projects/tools/\")\n",
    "sys.path.append('C:/Users/Jeff/udacity/Intro_to_Machine_Learning/ud120-projects/choose_your_own')\n",
    "sys.path.append('C:/Users/Jeff/udacity/Intro_to_Machine_Learning/ud120-projects/datasets_questions')\n",
    "\n",
    "import os\n",
    "os.chdir('C:/Users/Jeff/udacity/Intro_to_Machine_Learning/ud120-projects/outliers')\n",
    "\n",
    "\n",
    "import numpy as np\n",
    "from sklearn.preprocessing import MinMaxScaler\n",
    "\n",
    "weights = np.array([[115.], [140.], [175.]])\n",
    "scaler = MinMaxScaler()\n",
    "rescaled_weight = scaler.fit_transform(weights)"
   ]
  },
  {
   "cell_type": "markdown",
   "metadata": {},
   "source": [
    "## Computing Rescaled Features"
   ]
  },
  {
   "cell_type": "code",
   "execution_count": 2,
   "metadata": {
    "collapsed": false
   },
   "outputs": [
    {
     "name": "stdout",
     "output_type": "stream",
     "text": [
      "$200,000 becomes 0.179976207145\n",
      "$1,000,000 becomes 0.0291134511597\n"
     ]
    }
   ],
   "source": [
    "import pickle\n",
    "import numpy\n",
    "#import matplotlib.pyplot as plt\n",
    "from feature_format import featureFormat, targetFeatureSplit\n",
    "\n",
    "### load in the dict of dicts containing all the data on each person in the dataset\n",
    "data_dict = pickle.load( open(\"../final_project/final_project_dataset.pkl\", \"r\") )\n",
    "### there's an outlier--remove it! \n",
    "data_dict.pop(\"TOTAL\", 0)\n",
    "\n",
    "# the features to be used\n",
    "features_list = ['poi', 'salary', 'exercised_stock_options']\n",
    "\n",
    "data = featureFormat(data_dict, features_list)\n",
    "\n",
    "_, salary, stock = zip(*data)\n",
    "\n",
    "# put the features into 2-D numpy arrays\n",
    "salary = np.array(salary).reshape((len(salary),1))\n",
    "stock = np.array(stock).reshape((len(stock),1))\n",
    "\n",
    "# rescale\n",
    "scaler = MinMaxScaler()\n",
    "salary = scaler.fit_transform(salary)\n",
    "print '$200,000 becomes {0}'.format(scaler.transform([[200000.]])[0][0])\n",
    "\n",
    "stock = scaler.fit_transform(stock)\n",
    "print '$1,000,000 becomes {0}'.format(scaler.transform([[1000000.]])[0][0])"
   ]
  }
 ],
 "metadata": {
  "kernelspec": {
   "display_name": "Python 2",
   "language": "python",
   "name": "python2"
  },
  "language_info": {
   "codemirror_mode": {
    "name": "ipython",
    "version": 2
   },
   "file_extension": ".py",
   "mimetype": "text/x-python",
   "name": "python",
   "nbconvert_exporter": "python",
   "pygments_lexer": "ipython2",
   "version": "2.7.11"
  }
 },
 "nbformat": 4,
 "nbformat_minor": 0
}
