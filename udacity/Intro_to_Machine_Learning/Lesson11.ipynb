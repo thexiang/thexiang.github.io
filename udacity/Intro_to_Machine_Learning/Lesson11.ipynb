{
 "cells": [
  {
   "cell_type": "markdown",
   "metadata": {},
   "source": [
    "## Number of Features and Overfitting"
   ]
  },
  {
   "cell_type": "code",
   "execution_count": 1,
   "metadata": {
    "collapsed": false
   },
   "outputs": [],
   "source": [
    "import sys\n",
    "sys.path.append(\"C:/Users/Jeff/udacity/Intro_to_Machine_Learning/ud120-projects/tools/\")\n",
    "sys.path.append('C:/Users/Jeff/udacity/Intro_to_Machine_Learning/ud120-projects/choose_your_own')\n",
    "sys.path.append('C:/Users/Jeff/udacity/Intro_to_Machine_Learning/ud120-projects/datasets_questions')\n",
    "\n",
    "import os\n",
    "os.chdir('C:/Users/Jeff/udacity/Intro_to_Machine_Learning/ud120-projects/feature_selection')"
   ]
  },
  {
   "cell_type": "code",
   "execution_count": 2,
   "metadata": {
    "collapsed": false
   },
   "outputs": [
    {
     "name": "stdout",
     "output_type": "stream",
     "text": [
      "Number of training points = 150\n"
     ]
    }
   ],
   "source": [
    "import pickle\n",
    "import numpy\n",
    "numpy.random.seed(42)\n",
    "\n",
    "\n",
    "words_file = \"../text_learning/your_word_data.pkl\" \n",
    "authors_file = \"../text_learning/your_email_authors.pkl\"\n",
    "    \n",
    "def my_func(words_file, authors_file):\n",
    "    '''\n",
    "    I will use this code later in the lesson so I made it a function\n",
    "    '''\n",
    "    \n",
    "    ### The words (features) and authors (labels), already largely processed.\n",
    "    ### These files should have been created from the previous (Lesson 10)\n",
    "    ### mini-project.\n",
    "    word_data = pickle.load( open(words_file, \"r\"))\n",
    "    authors = pickle.load( open(authors_file, \"r\") )\n",
    "\n",
    "\n",
    "\n",
    "    ### test_size is the percentage of events assigned to the test set (the\n",
    "    ### remainder go into training)\n",
    "    ### feature matrices changed to dense representations for compatibility with\n",
    "    ### classifier functions in versions 0.15.2 and earlier\n",
    "    from sklearn import cross_validation\n",
    "    features_train, features_test, labels_train, labels_test = cross_validation.train_test_split(word_data, authors, test_size=0.1, random_state=42)\n",
    "\n",
    "    from sklearn.feature_extraction.text import TfidfVectorizer\n",
    "    vectorizer = TfidfVectorizer(sublinear_tf=True, max_df=0.5,\n",
    "                                 stop_words='english')\n",
    "    features_train = vectorizer.fit_transform(features_train)\n",
    "    features_test  = vectorizer.transform(features_test).toarray()\n",
    "\n",
    "\n",
    "    ### a classic way to overfit is to use a small number\n",
    "    ### of data points and a large number of features;\n",
    "    ### train on only 150 events to put ourselves in this regime\n",
    "    features_train = features_train[:150].toarray()\n",
    "    labels_train   = labels_train[:150]\n",
    "\n",
    "\n",
    "    from sklearn.tree import DecisionTreeClassifier\n",
    "\n",
    "    clf = DecisionTreeClassifier()\n",
    "    clf.fit(features_train, labels_train)\n",
    "    \n",
    "    return clf, vectorizer, features_train, features_test, labels_train, labels_test\n",
    "\n",
    "\n",
    "(clf, vectorizer, features_train, features_test, labels_train, labels_test) = my_func(words_file, authors_file)\n",
    "\n",
    "print 'Number of training points = {0}'.format(len(features_train))"
   ]
  },
  {
   "cell_type": "markdown",
   "metadata": {},
   "source": [
    "## Accuracy of Your Overfit Decision Tree"
   ]
  },
  {
   "cell_type": "code",
   "execution_count": 3,
   "metadata": {
    "collapsed": false
   },
   "outputs": [
    {
     "name": "stdout",
     "output_type": "stream",
     "text": [
      "Accuracy on test set = 0.947667804323\n"
     ]
    }
   ],
   "source": [
    "print 'Accuracy on test set = {0}'.format(clf.score(features_test, labels_test))"
   ]
  },
  {
   "cell_type": "markdown",
   "metadata": {},
   "source": [
    "## Identify the Most Powerful Features *and* Use `TfIdf` to Get the Most Important Word"
   ]
  },
  {
   "cell_type": "code",
   "execution_count": 4,
   "metadata": {
    "collapsed": false
   },
   "outputs": [
    {
     "name": "stdout",
     "output_type": "stream",
     "text": [
      "[(33614, 0.76470588235294124, u'sshacklensf')]\n"
     ]
    }
   ],
   "source": [
    "top_features = [(number, feature, vectorizer.get_feature_names()[number]) for number, feature in \n",
    "                zip(range(len(clf.feature_importances_)), clf.feature_importances_) if feature > 0.2]\n",
    "print top_features"
   ]
  },
  {
   "cell_type": "markdown",
   "metadata": {},
   "source": [
    "## Remove, Repeat"
   ]
  },
  {
   "cell_type": "markdown",
   "metadata": {},
   "source": [
    "### Re-Process the Text"
   ]
  },
  {
   "cell_type": "code",
   "execution_count": 5,
   "metadata": {
    "collapsed": false
   },
   "outputs": [],
   "source": [
    "import string\n",
    "from nltk.stem.snowball import SnowballStemmer\n",
    "\n",
    "def parseOutText(f):\n",
    "    '''\n",
    "    Input: a file containing text\n",
    "    \n",
    "    Output: the stemmed words in the input text, all separated by a single space\n",
    "    '''\n",
    "    f.seek(0)  ### go back to beginning of file (annoying)\n",
    "    all_text = f.read()\n",
    "\n",
    "    ### split off metadata\n",
    "    content = all_text.split(\"X-FileName:\")\n",
    "    \n",
    "    # the stemmer\n",
    "    stemmer = SnowballStemmer('english')\n",
    "    \n",
    "    # the string of words\n",
    "    words = \"\"\n",
    "    \n",
    "    if len(content) > 1:\n",
    "        ### remove punctuation\n",
    "        text_string = content[1].translate(string.maketrans(\"\", \"\"), string.punctuation)\n",
    "\n",
    "        ### split the text string into individual words, stem each word,\n",
    "        ### and append the stemmed word to words (make sure there's a single\n",
    "        ### space between each stemmed word)\n",
    "        for word in text_string.split():\n",
    "            # stem the word and add it to words\n",
    "            words += stemmer.stem(word) + ' '       \n",
    "        \n",
    "    return words[:-1]\n",
    "    \n",
    "\n",
    "ff = open(\"../text_learning/test_email.txt\", \"r\")\n",
    "text = parseOutText(ff)"
   ]
  },
  {
   "cell_type": "code",
   "execution_count": 6,
   "metadata": {
    "collapsed": false
   },
   "outputs": [],
   "source": [
    "from sklearn.feature_extraction.text import TfidfVectorizer\n",
    "\n",
    "\"\"\"\n",
    "    Starter code to process the emails from Sara and Chris to extract\n",
    "    the features and get the documents ready for classification.\n",
    "\n",
    "    The list of all the emails from Sara are in the from_sara list\n",
    "    likewise for emails from Chris (from_chris)\n",
    "\n",
    "    The actual documents are in the Enron email dataset, which\n",
    "    you downloaded/unpacked in Part 0 of the first mini-project. If you have\n",
    "    not obtained the Enron email corpus, run startup.py in the tools folder.\n",
    "\n",
    "    The data is stored in lists and packed away in pickle files at the end.\n",
    "\"\"\"\n",
    "\n",
    "def sara_and_chris(sw):\n",
    "    '''\n",
    "    I'm going to reuse this code later so I'm making it a function\n",
    "    '''\n",
    "    \n",
    "    with open(\"../text_learning/from_sara.txt\", \"r\") as from_sara, open(\"../text_learning/from_chris.txt\", \"r\") as from_chris:\n",
    "\n",
    "        from_data = []\n",
    "        word_data = []\n",
    "\n",
    "        ### temp_counter is a way to speed up the development--there are\n",
    "        ### thousands of emails from Sara and Chris, so running over all of them\n",
    "        ### can take a long time\n",
    "        ### temp_counter helps you only look at the first 200 emails in the list so you\n",
    "        ### can iterate your modifications quicker\n",
    "        temp_counter = 0\n",
    "\n",
    "\n",
    "        for name, from_person in [(\"sara\", from_sara), (\"chris\", from_chris)]:\n",
    "            for path in from_person:\n",
    "                ### only look at first 200 emails when developing\n",
    "                ### once everything is working, remove this line to run over full dataset\n",
    "\n",
    "                #temp_counter += 1\n",
    "                if temp_counter < 200:\n",
    "                    path = os.path.join('..', path[:-1])\n",
    "\n",
    "                    with open(path, 'r') as email:\n",
    "                        ### use parseOutText to extract the text from the opened email\n",
    "                        text = parseOutText(email)\n",
    "\n",
    "                        ### use str.replace() to remove any instances of the words\n",
    "                        ### [\"sara\", \"shackleton \", \"chris\", \"germani\"]\n",
    "                        for word in sw:\n",
    "                            if(word in text):\n",
    "                                text = text.replace(word, \"\")\n",
    "\n",
    "                        ### append the text to word_data\n",
    "                        word_data.append(text.replace('\\n',' ').strip())\n",
    "\n",
    "                        ### append a 0 to from_data if email is from Sara, and 1 if email is from Chris\n",
    "                        if name=='sara':\n",
    "                            from_data.append(0)\n",
    "                        else:\n",
    "                            from_data.append(1)\n",
    "\n",
    "    pickle.dump( word_data, open(\"your_word_data.pkl\", \"w\") )\n",
    "    pickle.dump( from_data, open(\"your_email_authors.pkl\", \"w\") )\n",
    "    \n",
    "    return None\n",
    "\n",
    "\n",
    "sw = [\"sara\", \"shackleton\", \"chris\", \"germani\", \"sshacklensf\"]\n",
    "sara_and_chris(sw)"
   ]
  },
  {
   "cell_type": "markdown",
   "metadata": {},
   "source": [
    "### Re-Fit the Model and Find the Outlier"
   ]
  },
  {
   "cell_type": "code",
   "execution_count": 7,
   "metadata": {
    "collapsed": false
   },
   "outputs": [
    {
     "name": "stdout",
     "output_type": "stream",
     "text": [
      "[(14343, 0.66666666666666674, u'cgermannsf')]\n"
     ]
    }
   ],
   "source": [
    "words_file = 'your_word_data.pkl'\n",
    "authors_file = 'your_email_authors.pkl'\n",
    "\n",
    "(clf, vectorizer, features_train, features_test, labels_train, labels_test) = my_func(words_file, authors_file)\n",
    "\n",
    "top_features = [(number, feature, vectorizer.get_feature_names()[number]) for number, feature in \n",
    "                zip(range(len(clf.feature_importances_)), clf.feature_importances_) if feature > 0.2]\n",
    "print top_features"
   ]
  },
  {
   "cell_type": "markdown",
   "metadata": {},
   "source": [
    "## Accuracy of the Overfit Tree"
   ]
  },
  {
   "cell_type": "code",
   "execution_count": 8,
   "metadata": {
    "collapsed": false
   },
   "outputs": [
    {
     "name": "stdout",
     "output_type": "stream",
     "text": [
      "Accuracy on test set = 0.816268486917\n"
     ]
    }
   ],
   "source": [
    "# remove the 2 outlier words\n",
    "sw = [\"sara\", \"shackleton\", \"chris\", \"germani\", \"sshacklensf\", \"cgermannsf\"]\n",
    "sara_and_chris(sw)\n",
    "\n",
    "# re-fit the tree\n",
    "words_file = 'your_word_data.pkl'\n",
    "authors_file = 'your_email_authors.pkl'\n",
    "(clf, vectorizer, features_train, features_test, labels_train, labels_test) = my_func(words_file, authors_file)\n",
    "\n",
    "print 'Accuracy on test set = {0}'.format(clf.score(features_test, labels_test))"
   ]
  }
 ],
 "metadata": {
  "kernelspec": {
   "display_name": "Python 2",
   "language": "python",
   "name": "python2"
  },
  "language_info": {
   "codemirror_mode": {
    "name": "ipython",
    "version": 2
   },
   "file_extension": ".py",
   "mimetype": "text/x-python",
   "name": "python",
   "nbconvert_exporter": "python",
   "pygments_lexer": "ipython2",
   "version": "2.7.11"
  }
 },
 "nbformat": 4,
 "nbformat_minor": 0
}
