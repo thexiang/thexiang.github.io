{
 "cells": [
  {
   "cell_type": "markdown",
   "metadata": {},
   "source": [
    "## Sales per Category"
   ]
  },
  {
   "cell_type": "markdown",
   "metadata": {},
   "source": [
    "### Mapper"
   ]
  },
  {
   "cell_type": "code",
   "execution_count": 1,
   "metadata": {
    "collapsed": true
   },
   "outputs": [],
   "source": [
    "#!/usr/bin/python\n",
    "\n",
    "# Format of each line is:\n",
    "# date\\ttime\\tstore name\\titem description\\tcost\\tmethod of payment\n",
    "#\n",
    "# We want elements 3 (item description) and 4 (cost)\n",
    "# We need to write them out to standard output, separated by a tab\n",
    "\n",
    "import sys\n",
    "\n",
    "for line in sys.stdin:\n",
    "    data = line.strip().split(\"\\t\")\n",
    "    if len(data) == 6:\n",
    "        print \"{0}\\t{1}\".format(data[3], data[4])"
   ]
  },
  {
   "cell_type": "markdown",
   "metadata": {},
   "source": [
    "### Reducer"
   ]
  },
  {
   "cell_type": "code",
   "execution_count": 2,
   "metadata": {
    "collapsed": false
   },
   "outputs": [],
   "source": [
    "#!/usr/bin/python\n",
    "\n",
    "import sys\n",
    "\n",
    "salesTotal = 0\n",
    "oldKey = None\n",
    "\n",
    "# Loop around the data\n",
    "# It will be in the format key\\tval\n",
    "# Where key is the product category, val is the sale amount\n",
    "#\n",
    "# All the sales for a particular product category will be presented,\n",
    "# then the key will change and we'll be dealing with the next store\n",
    "\n",
    "for line in sys.stdin:\n",
    "    data_mapped = line.strip().split(\"\\t\")\n",
    "    if len(data_mapped) != 2:\n",
    "        # Something has gone wrong. Skip this line.\n",
    "        continue\n",
    "\n",
    "    (thisKey, thisSale) = data_mapped\n",
    "\n",
    "    if oldKey and oldKey != thisKey:\n",
    "        print oldKey, \"\\t\", salesTotal\n",
    "        oldKey = thisKey;\n",
    "        salesTotal = 0\n",
    "    else:\n",
    "        oldKey = thisKey\n",
    "\n",
    "    #oldKey = thisKey\n",
    "    salesTotal += float(thisSale)\n",
    "\n",
    "if oldKey != None:\n",
    "    print oldKey, \"\\t\", salesTotal"
   ]
  },
  {
   "cell_type": "markdown",
   "metadata": {},
   "source": [
    "## Highest Sale"
   ]
  },
  {
   "cell_type": "markdown",
   "metadata": {},
   "source": [
    "### Mapper"
   ]
  },
  {
   "cell_type": "code",
   "execution_count": 3,
   "metadata": {
    "collapsed": true
   },
   "outputs": [],
   "source": [
    "#!/usr/bin/python\n",
    "\n",
    "# Format of each line is:\n",
    "# date\\ttime\\tstore name\\titem description\\tcost\\tmethod of payment\n",
    "#\n",
    "# We want elements 2 (store name) and 4 (cost)\n",
    "# We need to write them out to standard output, separated by a tab\n",
    "\n",
    "import sys\n",
    "\n",
    "for line in sys.stdin:\n",
    "    data = line.strip().split(\"\\t\")\n",
    "    if len(data) == 6:\n",
    "        print \"{0}\\t{1}\".format(data[2], data[4])"
   ]
  },
  {
   "cell_type": "markdown",
   "metadata": {},
   "source": [
    "### Reducer"
   ]
  },
  {
   "cell_type": "code",
   "execution_count": 4,
   "metadata": {
    "collapsed": true
   },
   "outputs": [],
   "source": [
    "#!/usr/bin/python\n",
    "\n",
    "import sys\n",
    "\n",
    "old_store = None\n",
    "max_sale = 0\n",
    "\n",
    "# Loop around the data\n",
    "# It will be in the format key, val\n",
    "# Where key is the store, val is the sale amount\n",
    "\n",
    "for line in sys.stdin:\n",
    "    data_mapped = line.strip().split(\"\\t\")\n",
    "    if len(data_mapped) != 2:\n",
    "        # Something has gone wrong. Skip this line.\n",
    "        continue\n",
    "\n",
    "    (store, sale) = data_mapped\n",
    "    sale = float(sale)\n",
    "\n",
    "\t# if it's a new store (and not the first store)\n",
    "    if old_store and old_store != store:\n",
    "        print old_store, \"\\t\", max_sale\n",
    "        old_store = store;\n",
    "        max_sale = sale\n",
    "        \n",
    "    # if it's the same store\n",
    "    else:\n",
    "    \told_store = store\n",
    "        if sale > max_sale:\n",
    "        \tmax_sale = sale\n",
    "\n",
    "if old_store != None:\n",
    "    print store, \"\\t\", max_sale"
   ]
  },
  {
   "cell_type": "markdown",
   "metadata": {},
   "source": [
    "## Total Sales"
   ]
  },
  {
   "cell_type": "markdown",
   "metadata": {},
   "source": [
    "### Mapper"
   ]
  },
  {
   "cell_type": "code",
   "execution_count": 5,
   "metadata": {
    "collapsed": true
   },
   "outputs": [],
   "source": [
    "#!/usr/bin/python\n",
    "\n",
    "# Format of each line is:\n",
    "# date\\ttime\\tstore name\\titem description\\tcost\\tmethod of payment\n",
    "#\n",
    "# We want elements 2 (store name) and 4 (cost)\n",
    "# We need to write them out to standard output, separated by a tab\n",
    "\n",
    "import sys\n",
    "\n",
    "for line in sys.stdin:\n",
    "    data = line.strip().split(\"\\t\")\n",
    "    if len(data) == 6:\n",
    "        print \"{0}\\t{1}\".format(data[2], data[4])"
   ]
  },
  {
   "cell_type": "markdown",
   "metadata": {},
   "source": [
    "### Reducer"
   ]
  },
  {
   "cell_type": "code",
   "execution_count": 6,
   "metadata": {
    "collapsed": true
   },
   "outputs": [],
   "source": [
    "#!/usr/bin/python\n",
    "\n",
    "import sys\n",
    "\n",
    "sale = None\n",
    "sales_value = 0.0\n",
    "sales_count = 0\n",
    "\n",
    "# Loop around the data\n",
    "# It will be in the format key, val\n",
    "# Where key is the store, val is the sale amount\n",
    "\n",
    "for line in sys.stdin:\n",
    "    data_mapped = line.strip().split(\"\\t\")\n",
    "    if len(data_mapped) != 2:\n",
    "        # Something has gone wrong. Skip this line.\n",
    "        continue\n",
    "\n",
    "    (_, sale) = data_mapped\n",
    "    sales_value += float(sale)\n",
    "    sales_count += 1\n",
    "\n",
    "if sale != None:\n",
    "    print sales_value, \"\\t\", sales_count"
   ]
  },
  {
   "cell_type": "markdown",
   "metadata": {},
   "source": [
    "## Hits to Page"
   ]
  },
  {
   "cell_type": "markdown",
   "metadata": {},
   "source": [
    "### Mapper"
   ]
  },
  {
   "cell_type": "code",
   "execution_count": 7,
   "metadata": {
    "collapsed": true
   },
   "outputs": [],
   "source": [
    "#!/usr/bin/python\n",
    "\n",
    "'''The logfile is in Common Log Format:\n",
    "\n",
    "10.223.157.186 - - [15/Jul/2009:15:50:35 -0700] \"GET /assets/js/lowpro.js HTTP/1.1\" 200 10469\n",
    "\n",
    "%h %l %u %t \\\"%r\\\" %>s %b\n",
    "\n",
    "Where:\n",
    "\n",
    "* %h is the IP address of the client\n",
    "* %l is identity of the client, or \"-\" if it's unavailable\n",
    "* %u is username of the client, or \"-\" if it's unavailable\n",
    "* %t is the time that the server finished processing the request. The format is [day/month/year:hour:minute:second zone]\n",
    "* %r is the request line from the client is given (in double quotes). It contains the \n",
    "    * method\n",
    "    * path\n",
    "    * query-string\n",
    "    * protocol or the request.\n",
    "* %>s is the status code that the server sends back to the client. You will see see mostly status codes 200 \n",
    "  (OK - The request has succeeded), 304 (Not Modified) and 404 (Not Found). See more information on status codes in W3C.org\n",
    "* %b is the size of the object returned to the client, in bytes. It will be \"-\" in case of status code 304.\n",
    "'''\n",
    "\n",
    "import sys\n",
    "\n",
    "for line in sys.stdin:\n",
    "    # extract the log fields\n",
    "    data = line.replace('[','').replace(']','').replace('\"','').split(' ')\n",
    "    # data = (IP, ID, username, dt [date+time], timezone, method, path, qspr [query-string + protocol/request], status, size)\n",
    "    if len(data) == 10:\n",
    "        print \"{0}\".format(data[6])"
   ]
  },
  {
   "cell_type": "markdown",
   "metadata": {},
   "source": [
    "### Reducer"
   ]
  },
  {
   "cell_type": "code",
   "execution_count": 8,
   "metadata": {
    "collapsed": true
   },
   "outputs": [],
   "source": [
    "#!/usr/bin/python\n",
    "\n",
    "import sys\n",
    "\n",
    "path = None\n",
    "path_count = 0\n",
    "\n",
    "# Loop around the data\n",
    "# It will be in the format key, val\n",
    "# Where key is the store, val is the sale amount\n",
    "\n",
    "for line in sys.stdin:\n",
    "    newpath = line.strip()\n",
    "    \n",
    "    # same path --> add to the count\n",
    "    if path and path == newpath:\n",
    "        path_count += 1\n",
    "    \n",
    "    # new path --> print old path & count, then reset path & count\n",
    "    else:\n",
    "        # print the old path & count as long as it's not the first line\n",
    "        if path:\n",
    "            print path, \"\\t\", path_count\n",
    "            \n",
    "        path = newpath\n",
    "        path_count = 1\n",
    "\n",
    "# print the last path & count\n",
    "if path != None:\n",
    "    print path, \"\\t\", path_count"
   ]
  },
  {
   "cell_type": "markdown",
   "metadata": {},
   "source": [
    "## Hits from IP"
   ]
  },
  {
   "cell_type": "markdown",
   "metadata": {},
   "source": [
    "### Mapper"
   ]
  },
  {
   "cell_type": "code",
   "execution_count": 9,
   "metadata": {
    "collapsed": true
   },
   "outputs": [],
   "source": [
    "#!/usr/bin/python\n",
    "\n",
    "'''The logfile is in Common Log Format:\n",
    "\n",
    "10.223.157.186 - - [15/Jul/2009:15:50:35 -0700] \"GET /assets/js/lowpro.js HTTP/1.1\" 200 10469\n",
    "\n",
    "%h %l %u %t \\\"%r\\\" %>s %b\n",
    "\n",
    "Where:\n",
    "\n",
    "* %h is the IP address of the client\n",
    "* %l is identity of the client, or \"-\" if it's unavailable\n",
    "* %u is username of the client, or \"-\" if it's unavailable\n",
    "* %t is the time that the server finished processing the request. The format is [day/month/year:hour:minute:second zone]\n",
    "* %r is the request line from the client is given (in double quotes). It contains the \n",
    "    * method\n",
    "    * path\n",
    "    * query-string\n",
    "    * protocol or the request.\n",
    "* %>s is the status code that the server sends back to the client. You will see see mostly status codes 200 \n",
    "  (OK - The request has succeeded), 304 (Not Modified) and 404 (Not Found). See more information on status codes in W3C.org\n",
    "* %b is the size of the object returned to the client, in bytes. It will be \"-\" in case of status code 304.\n",
    "'''\n",
    "\n",
    "import sys\n",
    "\n",
    "for line in sys.stdin:\n",
    "    # extract the log fields\n",
    "    data = line.replace('[','').replace(']','').replace('\"','').split(' ')\n",
    "    # data = (IP, ID, username, dt [date+time], timezone, method, path, qspr [query-string + protocol/request], status, size)\n",
    "    if len(data) == 10:\n",
    "        print \"{0}\".format(data[0])"
   ]
  },
  {
   "cell_type": "markdown",
   "metadata": {},
   "source": [
    "### Reducer"
   ]
  },
  {
   "cell_type": "code",
   "execution_count": 10,
   "metadata": {
    "collapsed": true
   },
   "outputs": [],
   "source": [
    "#!/usr/bin/python\n",
    "\n",
    "import sys\n",
    "\n",
    "key = None\n",
    "key_count = 0\n",
    "\n",
    "# Loop around the data\n",
    "# It will be in the format key, val\n",
    "# Where key is the store, val is the sale amount\n",
    "\n",
    "for line in sys.stdin:\n",
    "    newkey = line.strip()\n",
    "    \n",
    "    # same key --> add to the count\n",
    "    if key and key == newkey:\n",
    "        key_count += 1\n",
    "    \n",
    "    # new key --> print old key & count, then reset key & count\n",
    "    else:\n",
    "        # print the old key & count as long as it's not the first line\n",
    "        if key:\n",
    "            print key, \"\\t\", key_count\n",
    "            \n",
    "        key = newkey\n",
    "        key_count = 1\n",
    "\n",
    "# print the last key & count\n",
    "if key != None:\n",
    "    print key, \"\\t\", key_count"
   ]
  },
  {
   "cell_type": "markdown",
   "metadata": {},
   "source": [
    "## Most Popular"
   ]
  },
  {
   "cell_type": "markdown",
   "metadata": {},
   "source": [
    "### Mapper"
   ]
  },
  {
   "cell_type": "code",
   "execution_count": 11,
   "metadata": {
    "collapsed": true
   },
   "outputs": [],
   "source": [
    "#!/usr/bin/python\n",
    "\n",
    "'''The logfile is in Common Log Format:\n",
    "\n",
    "10.223.157.186 - - [15/Jul/2009:15:50:35 -0700] \"GET /assets/js/lowpro.js HTTP/1.1\" 200 10469\n",
    "\n",
    "%h %l %u %t \\\"%r\\\" %>s %b\n",
    "\n",
    "Where:\n",
    "\n",
    "* %h is the IP address of the client\n",
    "* %l is identity of the client, or \"-\" if it's unavailable\n",
    "* %u is username of the client, or \"-\" if it's unavailable\n",
    "* %t is the time that the server finished processing the request. The format is [day/month/year:hour:minute:second zone]\n",
    "* %r is the request line from the client is given (in double quotes). It contains the \n",
    "    * method\n",
    "    * path\n",
    "    * query-string\n",
    "    * protocol or the request.\n",
    "* %>s is the status code that the server sends back to the client. You will see see mostly status codes 200 \n",
    "  (OK - The request has succeeded), 304 (Not Modified) and 404 (Not Found). See more information on status codes in W3C.org\n",
    "* %b is the size of the object returned to the client, in bytes. It will be \"-\" in case of status code 304.\n",
    "'''\n",
    "\n",
    "import sys\n",
    "\n",
    "for line in sys.stdin:\n",
    "    # extract the log fields\n",
    "    data = line.replace('[','').replace(']','').replace('\"','').split(' ')\n",
    "    # data = (IP, ID, username, dt [date+time], timezone, method, path, qspr [query-string + protocol/request], status, size)\n",
    "    if len(data) == 10:\n",
    "        print \"{0}\".format(data[6].replace('http://www.the-associates.co.uk',''))"
   ]
  },
  {
   "cell_type": "markdown",
   "metadata": {},
   "source": [
    "### Reducer"
   ]
  },
  {
   "cell_type": "code",
   "execution_count": 12,
   "metadata": {
    "collapsed": true
   },
   "outputs": [],
   "source": [
    "#!/usr/bin/python\n",
    "\n",
    "import sys\n",
    "\n",
    "key = None\n",
    "key_count = 0\n",
    "max_key = None\n",
    "max_count = 0\n",
    "\n",
    "# Loop around the data\n",
    "# It will be in the format key, val\n",
    "# Where key is the store, val is the sale amount\n",
    "\n",
    "for line in sys.stdin:\n",
    "    newkey = line.strip()\n",
    "    \n",
    "    # same key --> add to the count\n",
    "    if key and key == newkey:\n",
    "        key_count += 1\n",
    "    \n",
    "    # new key\n",
    "    else:\n",
    "        # compare the last key_count to max_count\n",
    "        if max_count < key_count:\n",
    "            max_count = key_count\n",
    "            max_key = key\n",
    "             \n",
    "        # reset the key and the count\n",
    "        key = newkey\n",
    "        key_count = 1\n",
    "    \n",
    "# print the maximum key_count and its key\n",
    "if key != None:\n",
    "    print max_key, \"\\t\", max_count"
   ]
  }
 ],
 "metadata": {
  "kernelspec": {
   "display_name": "Python 2",
   "language": "python",
   "name": "python2"
  },
  "language_info": {
   "codemirror_mode": {
    "name": "ipython",
    "version": 2
   },
   "file_extension": ".py",
   "mimetype": "text/x-python",
   "name": "python",
   "nbconvert_exporter": "python",
   "pygments_lexer": "ipython2",
   "version": "2.7.11"
  }
 },
 "nbformat": 4,
 "nbformat_minor": 0
}
